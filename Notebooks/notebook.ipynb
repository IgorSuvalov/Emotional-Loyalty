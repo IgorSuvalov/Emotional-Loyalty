{
 "cells": [
  {
   "metadata": {},
   "cell_type": "markdown",
   "source": [
    "##Emotional loyalty model demo\n",
    "\n",
    "This notebook will walk you through a demo model implementing emotional loyalty scoring. The goal of this loyalty model is to account for the \"emotional\" engagement of the consumer with the service/product alongside with the transactional parameters like the frequency of purchases and purchase amount. \n"
   ],
   "id": "5ae2a0e0f9037b45"
  },
  {
   "metadata": {},
   "cell_type": "markdown",
   "source": "Let's start by importing the libraries, loading the dataset and adding a random seed for reproducibility of the model.",
   "id": "6f29b1a21349a072"
  },
  {
   "cell_type": "code",
   "id": "initial_id",
   "metadata": {
    "collapsed": true,
    "ExecuteTime": {
     "end_time": "2025-08-08T21:55:04.552336Z",
     "start_time": "2025-08-08T21:55:01.702248Z"
    }
   },
   "source": "!pip install -q opendatasets",
   "outputs": [],
   "execution_count": 178
  },
  {
   "metadata": {
    "ExecuteTime": {
     "end_time": "2025-08-21T11:40:37.770650Z",
     "start_time": "2025-08-21T11:40:34.802132Z"
    }
   },
   "cell_type": "code",
   "source": [
    "# Import the necessary libraries\n",
    "import os\n",
    "import numpy as np\n",
    "import pandas as pd\n",
    "import opendatasets as od\n",
    "import random\n",
    "import re\n",
    "import matplotlib.pyplot as plt\n",
    "\n",
    "from sklearn.preprocessing import QuantileTransformer\n",
    "from sklearn.preprocessing import StandardScaler\n",
    "from sklearn.cluster import KMeans\n",
    "from sklearn.metrics import silhouette_score\n",
    "\n",
    "# Random seed for reproducibility\n",
    "random.seed(42)\n",
    "np.random.seed(42)"
   ],
   "id": "c13ced96b338d8b",
   "outputs": [],
   "execution_count": 2
  },
  {
   "metadata": {
    "ExecuteTime": {
     "end_time": "2025-08-21T11:45:00.293898Z",
     "start_time": "2025-08-21T11:44:54.840858Z"
    }
   },
   "cell_type": "code",
   "source": [
    "# Import the dataset\n",
    "od.download(\"https://www.kaggle.com/datasets/bhadramohit/customer-shopping-latest-trends-dataset\", data_dir=\"..\")"
   ],
   "id": "be530de41f9e8401",
   "outputs": [
    {
     "name": "stdout",
     "output_type": "stream",
     "text": [
      "Please provide your Kaggle credentials to download this dataset. Learn more: http://bit.ly/kaggle-creds\n",
      "Your Kaggle username:Your Kaggle Key:Dataset URL: https://www.kaggle.com/datasets/bhadramohit/customer-shopping-latest-trends-dataset\n",
      "Downloading customer-shopping-latest-trends-dataset.zip to ..\\customer-shopping-latest-trends-dataset\n"
     ]
    },
    {
     "name": "stderr",
     "output_type": "stream",
     "text": [
      "100%|██████████| 75.9k/75.9k [00:00<00:00, 7.75MB/s]"
     ]
    },
    {
     "name": "stdout",
     "output_type": "stream",
     "text": [
      "\n"
     ]
    },
    {
     "name": "stderr",
     "output_type": "stream",
     "text": [
      "\n"
     ]
    }
   ],
   "execution_count": 6
  },
  {
   "metadata": {
    "ExecuteTime": {
     "end_time": "2025-08-21T11:46:23.695506Z",
     "start_time": "2025-08-21T11:46:23.660201Z"
    }
   },
   "cell_type": "code",
   "source": [
    "\n",
    "csv_path = os.path.join(\"../customer-shopping-latest-trends-dataset\", \"shopping_trends.csv\")\n",
    "df = pd.read_csv(csv_path)\n",
    "\n",
    "print(f\"Loaded {len(df):,} rows and {df.shape[1]} columns.\")\n",
    "df.head()"
   ],
   "id": "8d151bc0f1eaf7f9",
   "outputs": [
    {
     "name": "stdout",
     "output_type": "stream",
     "text": [
      "Loaded 3,900 rows and 19 columns.\n"
     ]
    },
    {
     "data": {
      "text/plain": [
       "   Customer ID  Age Gender Item Purchased  Category  Purchase Amount (USD)  \\\n",
       "0            1   55   Male         Blouse  Clothing                     53   \n",
       "1            2   19   Male        Sweater  Clothing                     64   \n",
       "2            3   50   Male          Jeans  Clothing                     73   \n",
       "3            4   21   Male        Sandals  Footwear                     90   \n",
       "4            5   45   Male         Blouse  Clothing                     49   \n",
       "\n",
       "        Location Size      Color  Season  Review Rating Subscription Status  \\\n",
       "0       Kentucky    L       Gray  Winter            3.1                 Yes   \n",
       "1          Maine    L     Maroon  Winter            3.1                 Yes   \n",
       "2  Massachusetts    S     Maroon  Spring            3.1                 Yes   \n",
       "3   Rhode Island    M     Maroon  Spring            3.5                 Yes   \n",
       "4         Oregon    M  Turquoise  Spring            2.7                 Yes   \n",
       "\n",
       "  Payment Method  Shipping Type Discount Applied Promo Code Used  \\\n",
       "0    Credit Card        Express              Yes             Yes   \n",
       "1  Bank Transfer        Express              Yes             Yes   \n",
       "2           Cash  Free Shipping              Yes             Yes   \n",
       "3         PayPal   Next Day Air              Yes             Yes   \n",
       "4           Cash  Free Shipping              Yes             Yes   \n",
       "\n",
       "   Previous Purchases Preferred Payment Method Frequency of Purchases  \n",
       "0                  14                    Venmo            Fortnightly  \n",
       "1                   2                     Cash            Fortnightly  \n",
       "2                  23              Credit Card                 Weekly  \n",
       "3                  49                   PayPal                 Weekly  \n",
       "4                  31                   PayPal               Annually  "
      ],
      "text/html": [
       "<div>\n",
       "<style scoped>\n",
       "    .dataframe tbody tr th:only-of-type {\n",
       "        vertical-align: middle;\n",
       "    }\n",
       "\n",
       "    .dataframe tbody tr th {\n",
       "        vertical-align: top;\n",
       "    }\n",
       "\n",
       "    .dataframe thead th {\n",
       "        text-align: right;\n",
       "    }\n",
       "</style>\n",
       "<table border=\"1\" class=\"dataframe\">\n",
       "  <thead>\n",
       "    <tr style=\"text-align: right;\">\n",
       "      <th></th>\n",
       "      <th>Customer ID</th>\n",
       "      <th>Age</th>\n",
       "      <th>Gender</th>\n",
       "      <th>Item Purchased</th>\n",
       "      <th>Category</th>\n",
       "      <th>Purchase Amount (USD)</th>\n",
       "      <th>Location</th>\n",
       "      <th>Size</th>\n",
       "      <th>Color</th>\n",
       "      <th>Season</th>\n",
       "      <th>Review Rating</th>\n",
       "      <th>Subscription Status</th>\n",
       "      <th>Payment Method</th>\n",
       "      <th>Shipping Type</th>\n",
       "      <th>Discount Applied</th>\n",
       "      <th>Promo Code Used</th>\n",
       "      <th>Previous Purchases</th>\n",
       "      <th>Preferred Payment Method</th>\n",
       "      <th>Frequency of Purchases</th>\n",
       "    </tr>\n",
       "  </thead>\n",
       "  <tbody>\n",
       "    <tr>\n",
       "      <th>0</th>\n",
       "      <td>1</td>\n",
       "      <td>55</td>\n",
       "      <td>Male</td>\n",
       "      <td>Blouse</td>\n",
       "      <td>Clothing</td>\n",
       "      <td>53</td>\n",
       "      <td>Kentucky</td>\n",
       "      <td>L</td>\n",
       "      <td>Gray</td>\n",
       "      <td>Winter</td>\n",
       "      <td>3.1</td>\n",
       "      <td>Yes</td>\n",
       "      <td>Credit Card</td>\n",
       "      <td>Express</td>\n",
       "      <td>Yes</td>\n",
       "      <td>Yes</td>\n",
       "      <td>14</td>\n",
       "      <td>Venmo</td>\n",
       "      <td>Fortnightly</td>\n",
       "    </tr>\n",
       "    <tr>\n",
       "      <th>1</th>\n",
       "      <td>2</td>\n",
       "      <td>19</td>\n",
       "      <td>Male</td>\n",
       "      <td>Sweater</td>\n",
       "      <td>Clothing</td>\n",
       "      <td>64</td>\n",
       "      <td>Maine</td>\n",
       "      <td>L</td>\n",
       "      <td>Maroon</td>\n",
       "      <td>Winter</td>\n",
       "      <td>3.1</td>\n",
       "      <td>Yes</td>\n",
       "      <td>Bank Transfer</td>\n",
       "      <td>Express</td>\n",
       "      <td>Yes</td>\n",
       "      <td>Yes</td>\n",
       "      <td>2</td>\n",
       "      <td>Cash</td>\n",
       "      <td>Fortnightly</td>\n",
       "    </tr>\n",
       "    <tr>\n",
       "      <th>2</th>\n",
       "      <td>3</td>\n",
       "      <td>50</td>\n",
       "      <td>Male</td>\n",
       "      <td>Jeans</td>\n",
       "      <td>Clothing</td>\n",
       "      <td>73</td>\n",
       "      <td>Massachusetts</td>\n",
       "      <td>S</td>\n",
       "      <td>Maroon</td>\n",
       "      <td>Spring</td>\n",
       "      <td>3.1</td>\n",
       "      <td>Yes</td>\n",
       "      <td>Cash</td>\n",
       "      <td>Free Shipping</td>\n",
       "      <td>Yes</td>\n",
       "      <td>Yes</td>\n",
       "      <td>23</td>\n",
       "      <td>Credit Card</td>\n",
       "      <td>Weekly</td>\n",
       "    </tr>\n",
       "    <tr>\n",
       "      <th>3</th>\n",
       "      <td>4</td>\n",
       "      <td>21</td>\n",
       "      <td>Male</td>\n",
       "      <td>Sandals</td>\n",
       "      <td>Footwear</td>\n",
       "      <td>90</td>\n",
       "      <td>Rhode Island</td>\n",
       "      <td>M</td>\n",
       "      <td>Maroon</td>\n",
       "      <td>Spring</td>\n",
       "      <td>3.5</td>\n",
       "      <td>Yes</td>\n",
       "      <td>PayPal</td>\n",
       "      <td>Next Day Air</td>\n",
       "      <td>Yes</td>\n",
       "      <td>Yes</td>\n",
       "      <td>49</td>\n",
       "      <td>PayPal</td>\n",
       "      <td>Weekly</td>\n",
       "    </tr>\n",
       "    <tr>\n",
       "      <th>4</th>\n",
       "      <td>5</td>\n",
       "      <td>45</td>\n",
       "      <td>Male</td>\n",
       "      <td>Blouse</td>\n",
       "      <td>Clothing</td>\n",
       "      <td>49</td>\n",
       "      <td>Oregon</td>\n",
       "      <td>M</td>\n",
       "      <td>Turquoise</td>\n",
       "      <td>Spring</td>\n",
       "      <td>2.7</td>\n",
       "      <td>Yes</td>\n",
       "      <td>Cash</td>\n",
       "      <td>Free Shipping</td>\n",
       "      <td>Yes</td>\n",
       "      <td>Yes</td>\n",
       "      <td>31</td>\n",
       "      <td>PayPal</td>\n",
       "      <td>Annually</td>\n",
       "    </tr>\n",
       "  </tbody>\n",
       "</table>\n",
       "</div>"
      ]
     },
     "execution_count": 8,
     "metadata": {},
     "output_type": "execute_result"
    }
   ],
   "execution_count": 8
  },
  {
   "metadata": {},
   "cell_type": "markdown",
   "source": "Now we want to get rid of the columns that do not give us any useful information (in real/larger datasets we would drop different columns, but for this demo we make the following choices).",
   "id": "4fe4a56564fb4d7e"
  },
  {
   "metadata": {
    "ExecuteTime": {
     "end_time": "2025-08-20T14:42:04.792872Z",
     "start_time": "2025-08-20T14:42:04.786787Z"
    }
   },
   "cell_type": "code",
   "source": [
    "# Check what columns we currently have\n",
    "print(df.columns.tolist())"
   ],
   "id": "aa3056fc9fff7dbb",
   "outputs": [
    {
     "name": "stdout",
     "output_type": "stream",
     "text": [
      "['Customer ID', 'Age', 'Gender', 'Item Purchased', 'Category', 'Purchase Amount (USD)', 'Location', 'Size', 'Color', 'Season', 'Review Rating', 'Subscription Status', 'Payment Method', 'Shipping Type', 'Discount Applied', 'Promo Code Used', 'Previous Purchases', 'Preferred Payment Method', 'Frequency of Purchases']\n"
     ]
    }
   ],
   "execution_count": 21
  },
  {
   "metadata": {},
   "cell_type": "markdown",
   "source": [
    "For the most columns it is clear why we do not want to include then, but let us explain the trickier ones. 'Category' and 'Season' in real data setting would be useful columns to examine, but due to this dataset being synthetic it only accounts for one purchase by each customer (i.e. even if a customer is said to be purchasing weekly, we will only have on of his purchases in the dataset).\n",
    "- 'Category' could've been used to track engagement since we would expect loyal customers to be shopping across different categories.\n",
    "- 'Season' in real data setting could be used to track whether the customer shops consistently throughout the year (signs of a loyal customer)."
   ],
   "id": "8fb2d3094095cacd"
  },
  {
   "metadata": {},
   "cell_type": "markdown",
   "source": "We also remove 'Promo Code Used' since it gives us the same information as 'Discount Applied' - those two columns are equal.",
   "id": "ca79468ecb254a8b"
  },
  {
   "metadata": {
    "ExecuteTime": {
     "end_time": "2025-08-20T14:42:05.989812Z",
     "start_time": "2025-08-20T14:42:05.983300Z"
    }
   },
   "cell_type": "code",
   "source": [
    "if df['Discount Applied'].equals(df['Promo Code Used']):\n",
    "    print('Those columns are equal')\n",
    "else:\n",
    "    print('Those columns are different entries')"
   ],
   "id": "5f2125185b59ccc5",
   "outputs": [
    {
     "name": "stdout",
     "output_type": "stream",
     "text": [
      "Those columns are equal\n"
     ]
    }
   ],
   "execution_count": 22
  },
  {
   "metadata": {
    "ExecuteTime": {
     "end_time": "2025-08-20T14:42:06.612214Z",
     "start_time": "2025-08-20T14:42:06.602434Z"
    }
   },
   "cell_type": "code",
   "source": [
    "# Drop the columns that we will not use for the model\n",
    "df = df.drop(columns= ['Item Purchased', 'Location', 'Size', 'Color', 'Shipping Type','Promo Code Used', 'Payment Method', 'Preferred Payment Method', 'Age', 'Gender', 'Category', 'Season'])\n",
    "\n",
    "print(df.columns.tolist())"
   ],
   "id": "fa987abe39f30c32",
   "outputs": [
    {
     "name": "stdout",
     "output_type": "stream",
     "text": [
      "['Customer ID', 'Purchase Amount (USD)', 'Review Rating', 'Subscription Status', 'Discount Applied', 'Previous Purchases', 'Frequency of Purchases']\n"
     ]
    }
   ],
   "execution_count": 23
  },
  {
   "metadata": {
    "ExecuteTime": {
     "end_time": "2025-08-20T14:42:07.083696Z",
     "start_time": "2025-08-20T14:42:07.072839Z"
    }
   },
   "cell_type": "code",
   "source": [
    "# Check how the dataset looks now\n",
    "df.head()"
   ],
   "id": "351ee016ccd70331",
   "outputs": [
    {
     "data": {
      "text/plain": [
       "   Customer ID  Purchase Amount (USD)  Review Rating Subscription Status  \\\n",
       "0            1                     53            3.1                 Yes   \n",
       "1            2                     64            3.1                 Yes   \n",
       "2            3                     73            3.1                 Yes   \n",
       "3            4                     90            3.5                 Yes   \n",
       "4            5                     49            2.7                 Yes   \n",
       "\n",
       "  Discount Applied  Previous Purchases Frequency of Purchases  \n",
       "0              Yes                  14            Fortnightly  \n",
       "1              Yes                   2            Fortnightly  \n",
       "2              Yes                  23                 Weekly  \n",
       "3              Yes                  49                 Weekly  \n",
       "4              Yes                  31               Annually  "
      ],
      "text/html": [
       "<div>\n",
       "<style scoped>\n",
       "    .dataframe tbody tr th:only-of-type {\n",
       "        vertical-align: middle;\n",
       "    }\n",
       "\n",
       "    .dataframe tbody tr th {\n",
       "        vertical-align: top;\n",
       "    }\n",
       "\n",
       "    .dataframe thead th {\n",
       "        text-align: right;\n",
       "    }\n",
       "</style>\n",
       "<table border=\"1\" class=\"dataframe\">\n",
       "  <thead>\n",
       "    <tr style=\"text-align: right;\">\n",
       "      <th></th>\n",
       "      <th>Customer ID</th>\n",
       "      <th>Purchase Amount (USD)</th>\n",
       "      <th>Review Rating</th>\n",
       "      <th>Subscription Status</th>\n",
       "      <th>Discount Applied</th>\n",
       "      <th>Previous Purchases</th>\n",
       "      <th>Frequency of Purchases</th>\n",
       "    </tr>\n",
       "  </thead>\n",
       "  <tbody>\n",
       "    <tr>\n",
       "      <th>0</th>\n",
       "      <td>1</td>\n",
       "      <td>53</td>\n",
       "      <td>3.1</td>\n",
       "      <td>Yes</td>\n",
       "      <td>Yes</td>\n",
       "      <td>14</td>\n",
       "      <td>Fortnightly</td>\n",
       "    </tr>\n",
       "    <tr>\n",
       "      <th>1</th>\n",
       "      <td>2</td>\n",
       "      <td>64</td>\n",
       "      <td>3.1</td>\n",
       "      <td>Yes</td>\n",
       "      <td>Yes</td>\n",
       "      <td>2</td>\n",
       "      <td>Fortnightly</td>\n",
       "    </tr>\n",
       "    <tr>\n",
       "      <th>2</th>\n",
       "      <td>3</td>\n",
       "      <td>73</td>\n",
       "      <td>3.1</td>\n",
       "      <td>Yes</td>\n",
       "      <td>Yes</td>\n",
       "      <td>23</td>\n",
       "      <td>Weekly</td>\n",
       "    </tr>\n",
       "    <tr>\n",
       "      <th>3</th>\n",
       "      <td>4</td>\n",
       "      <td>90</td>\n",
       "      <td>3.5</td>\n",
       "      <td>Yes</td>\n",
       "      <td>Yes</td>\n",
       "      <td>49</td>\n",
       "      <td>Weekly</td>\n",
       "    </tr>\n",
       "    <tr>\n",
       "      <th>4</th>\n",
       "      <td>5</td>\n",
       "      <td>49</td>\n",
       "      <td>2.7</td>\n",
       "      <td>Yes</td>\n",
       "      <td>Yes</td>\n",
       "      <td>31</td>\n",
       "      <td>Annually</td>\n",
       "    </tr>\n",
       "  </tbody>\n",
       "</table>\n",
       "</div>"
      ]
     },
     "execution_count": 24,
     "metadata": {},
     "output_type": "execute_result"
    }
   ],
   "execution_count": 24
  },
  {
   "metadata": {},
   "cell_type": "markdown",
   "source": "Now we need to do more preprocessing by changing yes/no to 1/0; translating frequencies into floats; making sure the categorical values and the names of columns are consistent. ",
   "id": "ce30397dbba117ad"
  },
  {
   "metadata": {
    "ExecuteTime": {
     "end_time": "2025-08-20T14:42:08.394328Z",
     "start_time": "2025-08-20T14:42:08.368710Z"
    }
   },
   "cell_type": "code",
   "source": [
    "# Write the columns with numerical and categorical entries out\n",
    "Categorical = ['Subscription Status', 'Discount Applied', 'Frequency of Purchases']\n",
    "Numerical = ['Customer ID','Purchase Amount (USD)', 'Review Rating', 'Previous Purchases']\n",
    "\n",
    "# Standardise the names\n",
    "for cat in Categorical:\n",
    "    vals = (df[cat].astype(str).str.strip().str.replace(r'\\s+', ' ', regex=True).str.lower().unique())\n",
    "    sorted(vals)\n",
    "    print(vals)\n"
   ],
   "id": "64345d0bbd721ef",
   "outputs": [
    {
     "name": "stdout",
     "output_type": "stream",
     "text": [
      "['yes' 'no']\n",
      "['yes' 'no']\n",
      "['fortnightly' 'weekly' 'annually' 'quarterly' 'bi-weekly' 'monthly'\n",
      " 'every 3 months']\n"
     ]
    }
   ],
   "execution_count": 25
  },
  {
   "metadata": {
    "ExecuteTime": {
     "end_time": "2025-08-20T14:42:08.947701Z",
     "start_time": "2025-08-20T14:42:08.931718Z"
    }
   },
   "cell_type": "code",
   "source": [
    "# Map yes/no to 0/1\n",
    "def yn_to01(s):\n",
    "    m = s.astype(str).str.strip().str.lower()\n",
    "    return m.map({\"yes\":1,\"no\":0}).astype(float)\n",
    "\n",
    "# Apply to the dataset\n",
    "df['Subscription Status'] = yn_to01(df['Subscription Status'])\n",
    "df['Discount Applied']    = yn_to01(df['Discount Applied'])\n",
    "\n",
    "# Turn strings like 'Monthly' into events per year\n",
    "freq_map = {\n",
    "    \"daily\":365, \"weekly\":52, \"fortnightly\":26, \"bi-weekly\":26,\n",
    "    \"monthly\":12, \"every 3 months\":4, \"quarterly\":4, \"annually\":1,\n",
    "}\n",
    "df[\"Frequency of Purchases\"] = df[\"Frequency of Purchases\"].astype(str).str.lower().map(freq_map).fillna(1.0)\n"
   ],
   "id": "93b4063fcf6d79a6",
   "outputs": [],
   "execution_count": 26
  },
  {
   "metadata": {
    "ExecuteTime": {
     "end_time": "2025-08-20T14:42:09.484812Z",
     "start_time": "2025-08-20T14:42:09.456642Z"
    }
   },
   "cell_type": "code",
   "source": [
    "# Check what we got\n",
    "df.head()"
   ],
   "id": "8b9e810570c4e5c3",
   "outputs": [
    {
     "data": {
      "text/plain": [
       "   Customer ID  Purchase Amount (USD)  Review Rating  Subscription Status  \\\n",
       "0            1                     53            3.1                  1.0   \n",
       "1            2                     64            3.1                  1.0   \n",
       "2            3                     73            3.1                  1.0   \n",
       "3            4                     90            3.5                  1.0   \n",
       "4            5                     49            2.7                  1.0   \n",
       "\n",
       "   Discount Applied  Previous Purchases  Frequency of Purchases  \n",
       "0               1.0                  14                      26  \n",
       "1               1.0                   2                      26  \n",
       "2               1.0                  23                      52  \n",
       "3               1.0                  49                      52  \n",
       "4               1.0                  31                       1  "
      ],
      "text/html": [
       "<div>\n",
       "<style scoped>\n",
       "    .dataframe tbody tr th:only-of-type {\n",
       "        vertical-align: middle;\n",
       "    }\n",
       "\n",
       "    .dataframe tbody tr th {\n",
       "        vertical-align: top;\n",
       "    }\n",
       "\n",
       "    .dataframe thead th {\n",
       "        text-align: right;\n",
       "    }\n",
       "</style>\n",
       "<table border=\"1\" class=\"dataframe\">\n",
       "  <thead>\n",
       "    <tr style=\"text-align: right;\">\n",
       "      <th></th>\n",
       "      <th>Customer ID</th>\n",
       "      <th>Purchase Amount (USD)</th>\n",
       "      <th>Review Rating</th>\n",
       "      <th>Subscription Status</th>\n",
       "      <th>Discount Applied</th>\n",
       "      <th>Previous Purchases</th>\n",
       "      <th>Frequency of Purchases</th>\n",
       "    </tr>\n",
       "  </thead>\n",
       "  <tbody>\n",
       "    <tr>\n",
       "      <th>0</th>\n",
       "      <td>1</td>\n",
       "      <td>53</td>\n",
       "      <td>3.1</td>\n",
       "      <td>1.0</td>\n",
       "      <td>1.0</td>\n",
       "      <td>14</td>\n",
       "      <td>26</td>\n",
       "    </tr>\n",
       "    <tr>\n",
       "      <th>1</th>\n",
       "      <td>2</td>\n",
       "      <td>64</td>\n",
       "      <td>3.1</td>\n",
       "      <td>1.0</td>\n",
       "      <td>1.0</td>\n",
       "      <td>2</td>\n",
       "      <td>26</td>\n",
       "    </tr>\n",
       "    <tr>\n",
       "      <th>2</th>\n",
       "      <td>3</td>\n",
       "      <td>73</td>\n",
       "      <td>3.1</td>\n",
       "      <td>1.0</td>\n",
       "      <td>1.0</td>\n",
       "      <td>23</td>\n",
       "      <td>52</td>\n",
       "    </tr>\n",
       "    <tr>\n",
       "      <th>3</th>\n",
       "      <td>4</td>\n",
       "      <td>90</td>\n",
       "      <td>3.5</td>\n",
       "      <td>1.0</td>\n",
       "      <td>1.0</td>\n",
       "      <td>49</td>\n",
       "      <td>52</td>\n",
       "    </tr>\n",
       "    <tr>\n",
       "      <th>4</th>\n",
       "      <td>5</td>\n",
       "      <td>49</td>\n",
       "      <td>2.7</td>\n",
       "      <td>1.0</td>\n",
       "      <td>1.0</td>\n",
       "      <td>31</td>\n",
       "      <td>1</td>\n",
       "    </tr>\n",
       "  </tbody>\n",
       "</table>\n",
       "</div>"
      ]
     },
     "execution_count": 27,
     "metadata": {},
     "output_type": "execute_result"
    }
   ],
   "execution_count": 27
  },
  {
   "metadata": {
    "ExecuteTime": {
     "end_time": "2025-08-20T14:42:10.209899Z",
     "start_time": "2025-08-20T14:42:10.196760Z"
    }
   },
   "cell_type": "code",
   "source": [
    "# Make the column names consistent\n",
    "def to_snake(name):\n",
    "    name = re.sub(r\"[^\\w]+\", \"_\", str(name).strip())\n",
    "    name = re.sub(r\"__+\", \"_\", name)\n",
    "    return name.strip(\"_\").lower()\n",
    "\n",
    "df.columns = [to_snake(c) for c in df.columns]\n",
    "df.head()\n"
   ],
   "id": "47e4ed88ee2c13ca",
   "outputs": [
    {
     "data": {
      "text/plain": [
       "   customer_id  purchase_amount_usd  review_rating  subscription_status  \\\n",
       "0            1                   53            3.1                  1.0   \n",
       "1            2                   64            3.1                  1.0   \n",
       "2            3                   73            3.1                  1.0   \n",
       "3            4                   90            3.5                  1.0   \n",
       "4            5                   49            2.7                  1.0   \n",
       "\n",
       "   discount_applied  previous_purchases  frequency_of_purchases  \n",
       "0               1.0                  14                      26  \n",
       "1               1.0                   2                      26  \n",
       "2               1.0                  23                      52  \n",
       "3               1.0                  49                      52  \n",
       "4               1.0                  31                       1  "
      ],
      "text/html": [
       "<div>\n",
       "<style scoped>\n",
       "    .dataframe tbody tr th:only-of-type {\n",
       "        vertical-align: middle;\n",
       "    }\n",
       "\n",
       "    .dataframe tbody tr th {\n",
       "        vertical-align: top;\n",
       "    }\n",
       "\n",
       "    .dataframe thead th {\n",
       "        text-align: right;\n",
       "    }\n",
       "</style>\n",
       "<table border=\"1\" class=\"dataframe\">\n",
       "  <thead>\n",
       "    <tr style=\"text-align: right;\">\n",
       "      <th></th>\n",
       "      <th>customer_id</th>\n",
       "      <th>purchase_amount_usd</th>\n",
       "      <th>review_rating</th>\n",
       "      <th>subscription_status</th>\n",
       "      <th>discount_applied</th>\n",
       "      <th>previous_purchases</th>\n",
       "      <th>frequency_of_purchases</th>\n",
       "    </tr>\n",
       "  </thead>\n",
       "  <tbody>\n",
       "    <tr>\n",
       "      <th>0</th>\n",
       "      <td>1</td>\n",
       "      <td>53</td>\n",
       "      <td>3.1</td>\n",
       "      <td>1.0</td>\n",
       "      <td>1.0</td>\n",
       "      <td>14</td>\n",
       "      <td>26</td>\n",
       "    </tr>\n",
       "    <tr>\n",
       "      <th>1</th>\n",
       "      <td>2</td>\n",
       "      <td>64</td>\n",
       "      <td>3.1</td>\n",
       "      <td>1.0</td>\n",
       "      <td>1.0</td>\n",
       "      <td>2</td>\n",
       "      <td>26</td>\n",
       "    </tr>\n",
       "    <tr>\n",
       "      <th>2</th>\n",
       "      <td>3</td>\n",
       "      <td>73</td>\n",
       "      <td>3.1</td>\n",
       "      <td>1.0</td>\n",
       "      <td>1.0</td>\n",
       "      <td>23</td>\n",
       "      <td>52</td>\n",
       "    </tr>\n",
       "    <tr>\n",
       "      <th>3</th>\n",
       "      <td>4</td>\n",
       "      <td>90</td>\n",
       "      <td>3.5</td>\n",
       "      <td>1.0</td>\n",
       "      <td>1.0</td>\n",
       "      <td>49</td>\n",
       "      <td>52</td>\n",
       "    </tr>\n",
       "    <tr>\n",
       "      <th>4</th>\n",
       "      <td>5</td>\n",
       "      <td>49</td>\n",
       "      <td>2.7</td>\n",
       "      <td>1.0</td>\n",
       "      <td>1.0</td>\n",
       "      <td>31</td>\n",
       "      <td>1</td>\n",
       "    </tr>\n",
       "  </tbody>\n",
       "</table>\n",
       "</div>"
      ]
     },
     "execution_count": 28,
     "metadata": {},
     "output_type": "execute_result"
    }
   ],
   "execution_count": 28
  },
  {
   "metadata": {},
   "cell_type": "markdown",
   "source": [
    "Now we create blocks that represent emotional engagement, amount of money spent and the frequency of purchases. Those block will give each consumer a score based on their \"performance\" in each area. \n",
    "\n",
    "For this we need to create a normalisation function that will help us assign scores from 0 to 100 for each block for each consumer."
   ],
   "id": "90bfd332e940baad"
  },
  {
   "metadata": {
    "ExecuteTime": {
     "end_time": "2025-08-20T14:42:11.039928Z",
     "start_time": "2025-08-20T14:42:11.032765Z"
    }
   },
   "cell_type": "code",
   "source": [
    "# Define a normalisation function\n",
    "def norm_quantile_0_100(s, invert=False):\n",
    "    x = pd.to_numeric(s, errors=\"coerce\").to_numpy().reshape(-1,1)\n",
    "    qt = QuantileTransformer(\n",
    "        n_quantiles=min(1000, len(s)),\n",
    "        output_distribution='uniform',\n",
    "        random_state=42\n",
    "    )\n",
    "    y = (qt.fit_transform(x).ravel() * 100)\n",
    "    return (100 - y) if invert else y\n"
   ],
   "id": "2479a46cab3dcee",
   "outputs": [],
   "execution_count": 29
  },
  {
   "metadata": {
    "ExecuteTime": {
     "end_time": "2025-08-20T14:42:11.790405Z",
     "start_time": "2025-08-20T14:42:11.680375Z"
    }
   },
   "cell_type": "code",
   "source": [
    "# Create a function that fills in missing values\n",
    "def nz(s):\n",
    "    return pd.to_numeric(s, errors=\"coerce\").fillna(s.median())\n",
    "\n",
    "# Create a copy of the dataset to not alter the original one\n",
    "cust = df.copy()\n",
    "\n",
    "# Make sure the numeric values are indeed numeric\n",
    "for c in [\"purchase_amount_usd\",\"previous_purchases\",\"frequency_of_purchases\",\n",
    "          \"subscription_status\",\"discount_applied\",\n",
    "          \"review_rating\",\"age\"]:\n",
    "    if c in cust.columns:\n",
    "        cust[c] = pd.to_numeric(cust[c], errors=\"coerce\")\n",
    "\n",
    "# Since the data is synthetic, we only have one row per consumer, so we assume the last purchase is the average amount that they usually spend \n",
    "cust[\"freq_per_year\"]   = cust[\"frequency_of_purchases\"].fillna(1.0)\n",
    "cust[\"total_spend_est\"] = (cust[\"purchase_amount_usd\"].fillna(0) * cust[\"freq_per_year\"])\n",
    "cust[\"avg_purchase\"]    = cust[\"purchase_amount_usd\"].fillna(0)\n",
    "\n",
    "# Fill in the missing values for the engagement block \n",
    "cust[\"sub_rate\"]     = cust[\"subscription_status\"].fillna(0)\n",
    "cust[\"discount_rate\"] = cust[\"discount_applied\"].fillna(0)     \n",
    "cust[\"avg_rating\"]    = cust[\"review_rating\"].fillna(0)\n",
    "\n",
    "# Now we bild the blocks with scores\n",
    "\n",
    "# Spend/Value block is estimated by annual spend and average purchase\n",
    "s_spend = np.nanmean(np.vstack([\n",
    "    norm_quantile_0_100(nz(cust[\"total_spend_est\"])),\n",
    "    norm_quantile_0_100(nz(cust[\"avg_purchase\"])),\n",
    "]), axis=0)\n",
    "\n",
    "# For engagement, we include sub + promos + rating (also add a cap so promo-chasers do not dominate)\n",
    "s_engage = np.nanmean(np.vstack([\n",
    "    norm_quantile_0_100(nz(cust[\"sub_rate\"])),\n",
    "    norm_quantile_0_100(np.minimum(nz(cust[\"discount_rate\"]), 70.0)),\n",
    "    norm_quantile_0_100(nz(cust[\"avg_rating\"])),\n",
    "]), axis=0)\n",
    "\n",
    "# Assemble block scores\n",
    "block_scores = pd.DataFrame({\n",
    "    \"customer_id\": cust[\"customer_id\"],\n",
    "    \"s_spend\": s_spend,\n",
    "    \"s_engage\": s_engage,\n",
    "})\n",
    "\n",
    "block_scores.head(200)\n",
    "\n"
   ],
   "id": "bc609ddfb6c943f9",
   "outputs": [
    {
     "data": {
      "text/plain": [
       "     customer_id    s_spend   s_engage\n",
       "0              1  56.531532  74.574575\n",
       "1              2  65.240240  74.574575\n",
       "2              3  80.755756  74.574575\n",
       "3              4  92.417417  80.063397\n",
       "4              5  21.321321  69.235903\n",
       "..           ...        ...        ...\n",
       "195          196  21.271271  90.857524\n",
       "196          197  84.984985  85.251919\n",
       "197          198  66.291291  75.892559\n",
       "198          199  49.924925  97.397397\n",
       "199          200  80.755756  83.950617\n",
       "\n",
       "[200 rows x 3 columns]"
      ],
      "text/html": [
       "<div>\n",
       "<style scoped>\n",
       "    .dataframe tbody tr th:only-of-type {\n",
       "        vertical-align: middle;\n",
       "    }\n",
       "\n",
       "    .dataframe tbody tr th {\n",
       "        vertical-align: top;\n",
       "    }\n",
       "\n",
       "    .dataframe thead th {\n",
       "        text-align: right;\n",
       "    }\n",
       "</style>\n",
       "<table border=\"1\" class=\"dataframe\">\n",
       "  <thead>\n",
       "    <tr style=\"text-align: right;\">\n",
       "      <th></th>\n",
       "      <th>customer_id</th>\n",
       "      <th>s_spend</th>\n",
       "      <th>s_engage</th>\n",
       "    </tr>\n",
       "  </thead>\n",
       "  <tbody>\n",
       "    <tr>\n",
       "      <th>0</th>\n",
       "      <td>1</td>\n",
       "      <td>56.531532</td>\n",
       "      <td>74.574575</td>\n",
       "    </tr>\n",
       "    <tr>\n",
       "      <th>1</th>\n",
       "      <td>2</td>\n",
       "      <td>65.240240</td>\n",
       "      <td>74.574575</td>\n",
       "    </tr>\n",
       "    <tr>\n",
       "      <th>2</th>\n",
       "      <td>3</td>\n",
       "      <td>80.755756</td>\n",
       "      <td>74.574575</td>\n",
       "    </tr>\n",
       "    <tr>\n",
       "      <th>3</th>\n",
       "      <td>4</td>\n",
       "      <td>92.417417</td>\n",
       "      <td>80.063397</td>\n",
       "    </tr>\n",
       "    <tr>\n",
       "      <th>4</th>\n",
       "      <td>5</td>\n",
       "      <td>21.321321</td>\n",
       "      <td>69.235903</td>\n",
       "    </tr>\n",
       "    <tr>\n",
       "      <th>...</th>\n",
       "      <td>...</td>\n",
       "      <td>...</td>\n",
       "      <td>...</td>\n",
       "    </tr>\n",
       "    <tr>\n",
       "      <th>195</th>\n",
       "      <td>196</td>\n",
       "      <td>21.271271</td>\n",
       "      <td>90.857524</td>\n",
       "    </tr>\n",
       "    <tr>\n",
       "      <th>196</th>\n",
       "      <td>197</td>\n",
       "      <td>84.984985</td>\n",
       "      <td>85.251919</td>\n",
       "    </tr>\n",
       "    <tr>\n",
       "      <th>197</th>\n",
       "      <td>198</td>\n",
       "      <td>66.291291</td>\n",
       "      <td>75.892559</td>\n",
       "    </tr>\n",
       "    <tr>\n",
       "      <th>198</th>\n",
       "      <td>199</td>\n",
       "      <td>49.924925</td>\n",
       "      <td>97.397397</td>\n",
       "    </tr>\n",
       "    <tr>\n",
       "      <th>199</th>\n",
       "      <td>200</td>\n",
       "      <td>80.755756</td>\n",
       "      <td>83.950617</td>\n",
       "    </tr>\n",
       "  </tbody>\n",
       "</table>\n",
       "<p>200 rows × 3 columns</p>\n",
       "</div>"
      ]
     },
     "execution_count": 30,
     "metadata": {},
     "output_type": "execute_result"
    }
   ],
   "execution_count": 30
  },
  {
   "metadata": {},
   "cell_type": "markdown",
   "source": "After the blocks that represent the parameters of interest in our model are made, we use them in unsupervised learning to find clusters of consumers that share similar behaviour with respect to those metrics.",
   "id": "23704be186f1e530"
  },
  {
   "metadata": {
    "ExecuteTime": {
     "end_time": "2025-08-20T14:42:17.052929Z",
     "start_time": "2025-08-20T14:42:15.438864Z"
    }
   },
   "cell_type": "code",
   "source": [
    "block_cols = sorted([c for c in block_scores.columns if c.startswith(\"s_\")])\n",
    "dims = len(block_cols)\n",
    "print(\"Clustering on columns:\", block_cols)\n",
    "\n",
    "X  = block_scores[block_cols].values\n",
    "Xs = StandardScaler().fit_transform(X)\n",
    "\n",
    "# Perform the K-means clustering\n",
    "best_k, best_sil, best_labels = None, -1, None\n",
    "for k in range(3, 8):\n",
    "    km = KMeans(n_clusters=k, n_init=10, random_state=42)\n",
    "    labels = km.fit_predict(Xs)\n",
    "    sil = silhouette_score(Xs, labels)\n",
    "    if sil > best_sil:\n",
    "        best_k, best_sil, best_labels = k, sil, labels\n",
    "\n",
    "print(f\"K={best_k}, silhouette({dims}D)={best_sil:.3f}\")\n",
    "block_scores[\"cluster\"] = best_labels\n",
    "\n",
    "\n",
    "plt.figure(figsize=(6,5))\n",
    "plt.scatter(block_scores[block_cols[0]], block_scores[block_cols[1]], s=10, c=best_labels)\n",
    "plt.title(\"Archetypes\")\n",
    "plt.xlabel(\"s_spend\"); plt.ylabel(\"s_engage\"); plt.show()\n",
    "\n",
    "# Compute the unsupervised contribution, scale it and assigns a score based on the cluster to each consumer\n",
    "row_eq = block_scores[['s_spend', 's_engage']].mean(axis=1)\n",
    "cluster_base = row_eq.groupby(block_scores[\"cluster\"]).mean()\n",
    "cluster_ranks = cluster_base.rank(method='dense').astype(int) - 1\n",
    "unsup = block_scores[\"cluster\"].map(cluster_ranks)\n",
    "unsup_scaled = (unsup / unsup.max()) * 100 if unsup.max() > 0 else 0\n",
    "block_scores[\"unsup_signal\"] = unsup_scaled\n"
   ],
   "id": "f99e221009a05b5e",
   "outputs": [
    {
     "name": "stdout",
     "output_type": "stream",
     "text": [
      "Clustering on columns: ['s_engage', 's_spend']\n",
      "K=4, silhouette(2D)=0.436\n"
     ]
    },
    {
     "data": {
      "text/plain": [
       "<Figure size 600x500 with 1 Axes>"
      ],
      "image/png": "[encoded data removed]"
     },
     "metadata": {},
     "output_type": "display_data"
    }
   ],
   "execution_count": 31
  },
  {
   "metadata": {},
   "cell_type": "markdown",
   "source": [
    "Based on the clustering above, we can assign to each of our customers one of 4 archetypes they belong to. Those will be:\n",
    "- Brand Champions (high-spend high-engage) - loyal and spend a lot (the type of customers we want to reward the most).\n",
    "- Transactional Spenders (high-spend low-engage) - Customers that spend a lot, but do not engage with the brand (the goal would be to offer them more appealing deals and offers to increase engagement) \n",
    "- Brand Advocates (low-spend high-engage) - highly loyal customers that do not spend enough (the customers we want to encourage to spend more)\n",
    "- Passive Customers (low-spend low-engage) - passive customers that do not spend much, neither are loyal to the brand (the customers we want to reward the least).\n"
   ],
   "id": "f7dfe6223bf0fcf6"
  },
  {
   "metadata": {
    "ExecuteTime": {
     "end_time": "2025-08-20T14:42:21.423077Z",
     "start_time": "2025-08-20T14:42:21.404089Z"
    }
   },
   "cell_type": "code",
   "source": [
    "# Calculate the average scores in each cluster\n",
    "cluster_profiles = block_scores.groupby('cluster')[['s_spend', 's_engage']].mean().round(1)\n",
    "print(\"\\nCluster Profiles (Average Scores):\")\n",
    "print(cluster_profiles)\n",
    "\n",
    "# Identify each archetype based on the cluster\n",
    "low_score_cluster = cluster_profiles.sum(axis=1).idxmin()\n",
    "high_score_cluster = cluster_profiles.sum(axis=1).idxmax()\n",
    "\n",
    "# Identify the remaining two clusters\n",
    "remaining_clusters = [c for c in cluster_profiles.index if c not in [low_score_cluster, high_score_cluster]]\n",
    "\n",
    "# Sort the remaining clusters\n",
    "if cluster_profiles.loc[remaining_clusters[0], 's_spend'] > cluster_profiles.loc[remaining_clusters[1], 's_spend']:\n",
    "    transactional_cluster = remaining_clusters[0]\n",
    "    advocate_cluster = remaining_clusters[1]\n",
    "else:\n",
    "    transactional_cluster = remaining_clusters[1]\n",
    "    advocate_cluster = remaining_clusters[0]\n",
    "\n",
    "# Create the mapping from cluster number to archetype\n",
    "archetype_map = {\n",
    "    high_score_cluster: 'Brand Champions',\n",
    "    transactional_cluster: 'Transactional Spenders',\n",
    "    advocate_cluster: 'Brand Advocates',\n",
    "    low_score_cluster: 'Passive Customers'\n",
    "}\n",
    "\n",
    "print(\"\\nAssigning the following map:\")\n",
    "print(archetype_map)\n",
    "\n",
    "# Add the 'archetype' column to the DataFrame\n",
    "block_scores['archetype'] = block_scores['cluster'].map(archetype_map)\n",
    "\n",
    "block_scores.head()\n"
   ],
   "id": "c2d484d0aeac2ca1",
   "outputs": [
    {
     "name": "stdout",
     "output_type": "stream",
     "text": [
      "\n",
      "Cluster Profiles (Average Scores):\n",
      "         s_spend  s_engage\n",
      "cluster                   \n",
      "0           30.0      19.4\n",
      "1           69.7      76.9\n",
      "2           69.4      19.5\n",
      "3           30.9      76.9\n",
      "\n",
      "Assigning the following map:\n",
      "{1: 'Brand Champions', 2: 'Transactional Spenders', 3: 'Brand Advocates', 0: 'Passive Customers'}\n"
     ]
    },
    {
     "data": {
      "text/plain": [
       "   customer_id    s_spend   s_engage  cluster  unsup_signal        archetype\n",
       "0            1  56.531532  74.574575        1    100.000000  Brand Champions\n",
       "1            2  65.240240  74.574575        1    100.000000  Brand Champions\n",
       "2            3  80.755756  74.574575        1    100.000000  Brand Champions\n",
       "3            4  92.417417  80.063397        1    100.000000  Brand Champions\n",
       "4            5  21.321321  69.235903        3     66.666667  Brand Advocates"
      ],
      "text/html": [
       "<div>\n",
       "<style scoped>\n",
       "    .dataframe tbody tr th:only-of-type {\n",
       "        vertical-align: middle;\n",
       "    }\n",
       "\n",
       "    .dataframe tbody tr th {\n",
       "        vertical-align: top;\n",
       "    }\n",
       "\n",
       "    .dataframe thead th {\n",
       "        text-align: right;\n",
       "    }\n",
       "</style>\n",
       "<table border=\"1\" class=\"dataframe\">\n",
       "  <thead>\n",
       "    <tr style=\"text-align: right;\">\n",
       "      <th></th>\n",
       "      <th>customer_id</th>\n",
       "      <th>s_spend</th>\n",
       "      <th>s_engage</th>\n",
       "      <th>cluster</th>\n",
       "      <th>unsup_signal</th>\n",
       "      <th>archetype</th>\n",
       "    </tr>\n",
       "  </thead>\n",
       "  <tbody>\n",
       "    <tr>\n",
       "      <th>0</th>\n",
       "      <td>1</td>\n",
       "      <td>56.531532</td>\n",
       "      <td>74.574575</td>\n",
       "      <td>1</td>\n",
       "      <td>100.000000</td>\n",
       "      <td>Brand Champions</td>\n",
       "    </tr>\n",
       "    <tr>\n",
       "      <th>1</th>\n",
       "      <td>2</td>\n",
       "      <td>65.240240</td>\n",
       "      <td>74.574575</td>\n",
       "      <td>1</td>\n",
       "      <td>100.000000</td>\n",
       "      <td>Brand Champions</td>\n",
       "    </tr>\n",
       "    <tr>\n",
       "      <th>2</th>\n",
       "      <td>3</td>\n",
       "      <td>80.755756</td>\n",
       "      <td>74.574575</td>\n",
       "      <td>1</td>\n",
       "      <td>100.000000</td>\n",
       "      <td>Brand Champions</td>\n",
       "    </tr>\n",
       "    <tr>\n",
       "      <th>3</th>\n",
       "      <td>4</td>\n",
       "      <td>92.417417</td>\n",
       "      <td>80.063397</td>\n",
       "      <td>1</td>\n",
       "      <td>100.000000</td>\n",
       "      <td>Brand Champions</td>\n",
       "    </tr>\n",
       "    <tr>\n",
       "      <th>4</th>\n",
       "      <td>5</td>\n",
       "      <td>21.321321</td>\n",
       "      <td>69.235903</td>\n",
       "      <td>3</td>\n",
       "      <td>66.666667</td>\n",
       "      <td>Brand Advocates</td>\n",
       "    </tr>\n",
       "  </tbody>\n",
       "</table>\n",
       "</div>"
      ]
     },
     "execution_count": 32,
     "metadata": {},
     "output_type": "execute_result"
    }
   ],
   "execution_count": 32
  },
  {
   "metadata": {},
   "cell_type": "markdown",
   "source": "Next we move on to creating the function $U(x)$ that will be used in assigning the loyalty tiers. $U(x)$ is just a linear combination of contributions from each block scaled by the weights. We will be able to alter the contribution (weights) from each block (e.g. some companies care much a lot about how engaged consumers are, others not as much).",
   "id": "bc53515d50f7c019"
  },
  {
   "metadata": {
    "ExecuteTime": {
     "end_time": "2025-08-20T14:42:22.261202Z",
     "start_time": "2025-08-20T14:42:22.249601Z"
    }
   },
   "cell_type": "code",
   "source": [
    "# Choose weights (they need to sum to 1)\n",
    "knobs = {\n",
    "    \"spend\":  0.40,\n",
    "    \"engage\": 0.60,\n",
    "}\n",
    "\n",
    "# Keep only blocks that exist, then normalise\n",
    "available = [c.replace(\"s_\",\"\") for c in block_scores.columns if c.startswith(\"s_\")]\n",
    "knobs = {k:v for k,v in knobs.items() if f\"s_{k}\" in block_scores.columns}\n",
    "tot = sum(knobs.values()) or 1.0\n",
    "knobs = {k: v/tot for k,v in knobs.items()}\n",
    "print(\"Using knobs:\", knobs)\n",
    "\n",
    "# Define the function U(x)\n",
    "def U_from_knobs(df, weights):\n",
    "    u = np.zeros(len(df))\n",
    "    for k,w in weights.items():\n",
    "        u += w * df[f\"s_{k}\"].values\n",
    "    return u\n",
    "\n",
    "block_scores[\"U_seed\"] = U_from_knobs(block_scores, knobs)\n"
   ],
   "id": "798d90f35a5c81b9",
   "outputs": [
    {
     "name": "stdout",
     "output_type": "stream",
     "text": [
      "Using knobs: {'spend': 0.4, 'engage': 0.6}\n"
     ]
    }
   ],
   "execution_count": 33
  },
  {
   "metadata": {},
   "cell_type": "markdown",
   "source": [
    "Now we define the function $\\text{tierer}(x) = \\lambda * U(x) + (1-\\lambda) * \\text{unsup_contribution}$. This function will be assigning tiers to the consumer. It will account for both the contribution due to $U(x)$ that we tune using weights, and it will account for the contribution from the unsupervised learning (cluster contribution that does not depend on the weights). Parameter $\\lambda$ will be our confidence in the model based on the weight that the business chose. \n",
    "\n",
    "We also add a multiplier based on the archetype of the customer, where we either increase the score (for example, for brand champions) or decrease the score (for passive consumers) "
   ],
   "id": "8e9acfaf3ccc0082"
  },
  {
   "metadata": {
    "ExecuteTime": {
     "end_time": "2025-08-20T14:42:23.171025Z",
     "start_time": "2025-08-20T14:42:23.152517Z"
    }
   },
   "cell_type": "code",
   "source": [
    "# Create the multiplier and alter the boosts/penalties\n",
    "archetype_multipliers = {\n",
    "    'Brand Champions':        1.10,\n",
    "    'Transactional Spenders': 0.95,\n",
    "    'Brand Advocates':       1.15,\n",
    "    'Passive Customers':      0.90\n",
    "}\n",
    "\n",
    "# Create a column with the multiplier for each customer\n",
    "block_scores['multiplier'] = block_scores['archetype'].map(archetype_multipliers)\n",
    "\n",
    "# Set our confidence parameter and create the tierer\n",
    "LAMBDA = 0.7\n",
    "base_score = LAMBDA*block_scores[\"U_seed\"].values + (1-LAMBDA)*block_scores[\"unsup_signal\"].values\n",
    "\n",
    "# Apply the strategic multiplier\n",
    "score = base_score * block_scores['multiplier'].values\n",
    "block_scores[\"score\"] = np.clip(score, 0, 100)\n",
    "\n",
    "# Add the tier distribution (has to add to 1)\n",
    "TARGET_MIX = {\"Platinum\":0.05, \"Gold\":0.15, \"Silver\":0.30, \"Regular\":0.50}\n",
    "\n",
    "# Define the function that gives us tier cutoffs\n",
    "def thresholds_from_mix(scores, mix):\n",
    "    cum=0; thr={}; order=[\"Platinum\",\"Gold\",\"Silver\",\"Regular\"]\n",
    "    for lvl in order[:-1]:\n",
    "        thr[lvl] = np.quantile(scores, 1 - (cum + mix[lvl]))\n",
    "        cum += mix[lvl]\n",
    "    thr[\"Regular\"] = -np.inf\n",
    "    return thr\n",
    "\n",
    "thr = thresholds_from_mix(block_scores[\"score\"].values, TARGET_MIX)\n",
    "\n",
    "# Function that assigns the tiers\n",
    "def to_tier(s, thr):\n",
    "    if s >= thr[\"Platinum\"]: return \"Platinum\"\n",
    "    if s >= thr[\"Gold\"]:     return \"Gold\"\n",
    "    if s >= thr[\"Silver\"]:   return \"Silver\"\n",
    "    return \"Regular\"\n",
    "\n",
    "block_scores[\"tier\"] = [to_tier(s, thr) for s in block_scores[\"score\"].values]\n",
    "print((block_scores[\"tier\"].value_counts(normalize=True)*100).round(1))"
   ],
   "id": "b94dbb514af7d73b",
   "outputs": [
    {
     "name": "stdout",
     "output_type": "stream",
     "text": [
      "tier\n",
      "Regular     50.0\n",
      "Silver      30.0\n",
      "Gold        15.0\n",
      "Platinum     5.0\n",
      "Name: proportion, dtype: float64\n"
     ]
    }
   ],
   "execution_count": 34
  },
  {
   "metadata": {},
   "cell_type": "markdown",
   "source": "Finally, let's see what tiers the function assigns to the customers! ",
   "id": "10fe0dcbc05bc099"
  },
  {
   "metadata": {
    "ExecuteTime": {
     "end_time": "2025-08-20T14:42:24.088436Z",
     "start_time": "2025-08-20T14:42:24.064492Z"
    }
   },
   "cell_type": "code",
   "source": [
    "# Get the scores\n",
    "tier_map  = block_scores.set_index(\"customer_id\")[\"tier\"]\n",
    "score_map = block_scores.set_index(\"customer_id\")[\"score\"]\n",
    "archetype = block_scores.set_index(\"customer_id\")[\"archetype\"]\n",
    "\n",
    "# Add the scores to the dataset\n",
    "view = df.copy()\n",
    "view[\"tier\"]  = view[\"customer_id\"].map(tier_map)\n",
    "view[\"score\"] = view[\"customer_id\"].map(score_map).round(1)\n",
    "view[\"archetype\"]  = view[\"customer_id\"].map(archetype)\n",
    "\n",
    "view.head(200)\n"
   ],
   "id": "ac1e925ebff3b277",
   "outputs": [
    {
     "data": {
      "text/plain": [
       "     customer_id  purchase_amount_usd  review_rating  subscription_status  \\\n",
       "0              1                   53            3.1                  1.0   \n",
       "1              2                   64            3.1                  1.0   \n",
       "2              3                   73            3.1                  1.0   \n",
       "3              4                   90            3.5                  1.0   \n",
       "4              5                   49            2.7                  1.0   \n",
       "..           ...                  ...            ...                  ...   \n",
       "195          196                   25            4.3                  1.0   \n",
       "196          197                   88            3.9                  1.0   \n",
       "197          198                   78            3.2                  1.0   \n",
       "198          199                   45            4.8                  1.0   \n",
       "199          200                   73            3.8                  1.0   \n",
       "\n",
       "     discount_applied  previous_purchases  frequency_of_purchases      tier  \\\n",
       "0                 1.0                  14                      26      Gold   \n",
       "1                 1.0                   2                      26      Gold   \n",
       "2                 1.0                  23                      52      Gold   \n",
       "3                 1.0                  49                      52  Platinum   \n",
       "4                 1.0                  31                       1    Silver   \n",
       "..                ...                 ...                     ...       ...   \n",
       "195               1.0                  34                      12    Silver   \n",
       "196               1.0                  41                      26  Platinum   \n",
       "197               1.0                  41                      12      Gold   \n",
       "198               1.0                  39                      26      Gold   \n",
       "199               1.0                  32                      52  Platinum   \n",
       "\n",
       "     score        archetype  \n",
       "0     84.9  Brand Champions  \n",
       "1     87.5  Brand Champions  \n",
       "2     92.3  Brand Champions  \n",
       "3     98.5  Brand Champions  \n",
       "4     63.3  Brand Advocates  \n",
       "..     ...              ...  \n",
       "195   73.7  Brand Advocates  \n",
       "196   98.6  Brand Champions  \n",
       "197   88.5  Brand Champions  \n",
       "198   86.1  Brand Advocates  \n",
       "199   96.7  Brand Champions  \n",
       "\n",
       "[200 rows x 10 columns]"
      ],
      "text/html": [
       "<div>\n",
       "<style scoped>\n",
       "    .dataframe tbody tr th:only-of-type {\n",
       "        vertical-align: middle;\n",
       "    }\n",
       "\n",
       "    .dataframe tbody tr th {\n",
       "        vertical-align: top;\n",
       "    }\n",
       "\n",
       "    .dataframe thead th {\n",
       "        text-align: right;\n",
       "    }\n",
       "</style>\n",
       "<table border=\"1\" class=\"dataframe\">\n",
       "  <thead>\n",
       "    <tr style=\"text-align: right;\">\n",
       "      <th></th>\n",
       "      <th>customer_id</th>\n",
       "      <th>purchase_amount_usd</th>\n",
       "      <th>review_rating</th>\n",
       "      <th>subscription_status</th>\n",
       "      <th>discount_applied</th>\n",
       "      <th>previous_purchases</th>\n",
       "      <th>frequency_of_purchases</th>\n",
       "      <th>tier</th>\n",
       "      <th>score</th>\n",
       "      <th>archetype</th>\n",
       "    </tr>\n",
       "  </thead>\n",
       "  <tbody>\n",
       "    <tr>\n",
       "      <th>0</th>\n",
       "      <td>1</td>\n",
       "      <td>53</td>\n",
       "      <td>3.1</td>\n",
       "      <td>1.0</td>\n",
       "      <td>1.0</td>\n",
       "      <td>14</td>\n",
       "      <td>26</td>\n",
       "      <td>Gold</td>\n",
       "      <td>84.9</td>\n",
       "      <td>Brand Champions</td>\n",
       "    </tr>\n",
       "    <tr>\n",
       "      <th>1</th>\n",
       "      <td>2</td>\n",
       "      <td>64</td>\n",
       "      <td>3.1</td>\n",
       "      <td>1.0</td>\n",
       "      <td>1.0</td>\n",
       "      <td>2</td>\n",
       "      <td>26</td>\n",
       "      <td>Gold</td>\n",
       "      <td>87.5</td>\n",
       "      <td>Brand Champions</td>\n",
       "    </tr>\n",
       "    <tr>\n",
       "      <th>2</th>\n",
       "      <td>3</td>\n",
       "      <td>73</td>\n",
       "      <td>3.1</td>\n",
       "      <td>1.0</td>\n",
       "      <td>1.0</td>\n",
       "      <td>23</td>\n",
       "      <td>52</td>\n",
       "      <td>Gold</td>\n",
       "      <td>92.3</td>\n",
       "      <td>Brand Champions</td>\n",
       "    </tr>\n",
       "    <tr>\n",
       "      <th>3</th>\n",
       "      <td>4</td>\n",
       "      <td>90</td>\n",
       "      <td>3.5</td>\n",
       "      <td>1.0</td>\n",
       "      <td>1.0</td>\n",
       "      <td>49</td>\n",
       "      <td>52</td>\n",
       "      <td>Platinum</td>\n",
       "      <td>98.5</td>\n",
       "      <td>Brand Champions</td>\n",
       "    </tr>\n",
       "    <tr>\n",
       "      <th>4</th>\n",
       "      <td>5</td>\n",
       "      <td>49</td>\n",
       "      <td>2.7</td>\n",
       "      <td>1.0</td>\n",
       "      <td>1.0</td>\n",
       "      <td>31</td>\n",
       "      <td>1</td>\n",
       "      <td>Silver</td>\n",
       "      <td>63.3</td>\n",
       "      <td>Brand Advocates</td>\n",
       "    </tr>\n",
       "    <tr>\n",
       "      <th>...</th>\n",
       "      <td>...</td>\n",
       "      <td>...</td>\n",
       "      <td>...</td>\n",
       "      <td>...</td>\n",
       "      <td>...</td>\n",
       "      <td>...</td>\n",
       "      <td>...</td>\n",
       "      <td>...</td>\n",
       "      <td>...</td>\n",
       "      <td>...</td>\n",
       "    </tr>\n",
       "    <tr>\n",
       "      <th>195</th>\n",
       "      <td>196</td>\n",
       "      <td>25</td>\n",
       "      <td>4.3</td>\n",
       "      <td>1.0</td>\n",
       "      <td>1.0</td>\n",
       "      <td>34</td>\n",
       "      <td>12</td>\n",
       "      <td>Silver</td>\n",
       "      <td>73.7</td>\n",
       "      <td>Brand Advocates</td>\n",
       "    </tr>\n",
       "    <tr>\n",
       "      <th>196</th>\n",
       "      <td>197</td>\n",
       "      <td>88</td>\n",
       "      <td>3.9</td>\n",
       "      <td>1.0</td>\n",
       "      <td>1.0</td>\n",
       "      <td>41</td>\n",
       "      <td>26</td>\n",
       "      <td>Platinum</td>\n",
       "      <td>98.6</td>\n",
       "      <td>Brand Champions</td>\n",
       "    </tr>\n",
       "    <tr>\n",
       "      <th>197</th>\n",
       "      <td>198</td>\n",
       "      <td>78</td>\n",
       "      <td>3.2</td>\n",
       "      <td>1.0</td>\n",
       "      <td>1.0</td>\n",
       "      <td>41</td>\n",
       "      <td>12</td>\n",
       "      <td>Gold</td>\n",
       "      <td>88.5</td>\n",
       "      <td>Brand Champions</td>\n",
       "    </tr>\n",
       "    <tr>\n",
       "      <th>198</th>\n",
       "      <td>199</td>\n",
       "      <td>45</td>\n",
       "      <td>4.8</td>\n",
       "      <td>1.0</td>\n",
       "      <td>1.0</td>\n",
       "      <td>39</td>\n",
       "      <td>26</td>\n",
       "      <td>Gold</td>\n",
       "      <td>86.1</td>\n",
       "      <td>Brand Advocates</td>\n",
       "    </tr>\n",
       "    <tr>\n",
       "      <th>199</th>\n",
       "      <td>200</td>\n",
       "      <td>73</td>\n",
       "      <td>3.8</td>\n",
       "      <td>1.0</td>\n",
       "      <td>1.0</td>\n",
       "      <td>32</td>\n",
       "      <td>52</td>\n",
       "      <td>Platinum</td>\n",
       "      <td>96.7</td>\n",
       "      <td>Brand Champions</td>\n",
       "    </tr>\n",
       "  </tbody>\n",
       "</table>\n",
       "<p>200 rows × 10 columns</p>\n",
       "</div>"
      ]
     },
     "execution_count": 35,
     "metadata": {},
     "output_type": "execute_result"
    }
   ],
   "execution_count": 35
  },
  {
   "metadata": {},
   "cell_type": "markdown",
   "source": "Looks like the tier distribution makes sense!",
   "id": "b3c68d013ecdf1ce"
  },
  {
   "metadata": {},
   "cell_type": "markdown",
   "source": "Now we just save the parameters of our model.",
   "id": "7475eaca2c3bb77c"
  },
  {
   "metadata": {
    "ExecuteTime": {
     "end_time": "2025-08-20T14:42:30.477601Z",
     "start_time": "2025-08-20T14:42:30.467279Z"
    }
   },
   "cell_type": "code",
   "source": [
    "import json\n",
    "config = {\n",
    "    \"knobs\": knobs,                 \n",
    "    \"lambda\": LAMBDA,               \n",
    "    \"K\": int(block_scores[\"cluster\"].nunique()),\n",
    "    \"thresholds\": {k: float(v) for k,v in thr.items()} \n",
    "}\n",
    "with open(\"../results/demo_config.json\",\"w\") as f:\n",
    "    json.dump(config, f, indent=2)\n",
    "print(\"Saved demo_config.json\")\n"
   ],
   "id": "6f200a1422c3ff26",
   "outputs": [
    {
     "name": "stdout",
     "output_type": "stream",
     "text": [
      "Saved demo_config.json\n"
     ]
    }
   ],
   "execution_count": 36
  }
 ],
 "metadata": {
  "kernelspec": {
   "display_name": "Python 3",
   "language": "python",
   "name": "python3"
  },
  "language_info": {
   "codemirror_mode": {
    "name": "ipython",
    "version": 2
   },
   "file_extension": ".py",
   "mimetype": "text/x-python",
   "name": "python",
   "nbconvert_exporter": "python",
   "pygments_lexer": "ipython2",
   "version": "2.7.6"
  }
 },
 "nbformat": 4,
 "nbformat_minor": 5
}
